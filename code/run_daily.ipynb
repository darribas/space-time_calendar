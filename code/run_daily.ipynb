{
 "cells": [
  {
   "cell_type": "markdown",
   "metadata": {},
   "source": [
    "# Run Daily Space-Time LISA"
   ]
  },
  {
   "cell_type": "markdown",
   "metadata": {},
   "source": [
    "* Software dependencies"
   ]
  },
  {
   "cell_type": "code",
   "execution_count": 1,
   "metadata": {},
   "outputs": [
    {
     "name": "stderr",
     "output_type": "stream",
     "text": [
      "/Users/dani/anaconda/envs/pydata/lib/python2.7/site-packages/matplotlib/font_manager.py:273: UserWarning: Matplotlib is building the font cache using fc-list. This may take a moment.\n",
      "  warnings.warn('Matplotlib is building the font cache using fc-list. This may take a moment.')\n"
     ]
    }
   ],
   "source": [
    "import tools\n",
    "import pandas as pd\n",
    "import numpy as np\n",
    "import pysal as ps\n",
    "import multiprocessing as mp\n",
    "from sqlalchemy import create_engine\n",
    "import geopandas as gpd"
   ]
  },
  {
   "cell_type": "markdown",
   "metadata": {},
   "source": [
    "* Data dependencies"
   ]
  },
  {
   "cell_type": "code",
   "execution_count": 2,
   "metadata": {
    "collapsed": true
   },
   "outputs": [],
   "source": [
    "db_link ='/Users/dani/AAA/LargeData/adam_cell_phone/a10.db'\n",
    "shp_link = '../data/a10/a10.shp'\n",
    "# To be created in the process:\n",
    "ashp_link = '/Users/dani/Desktop/a10_agd_maxp.shp'\n",
    "\n",
    "engine = create_engine('sqlite:///'+db_link)"
   ]
  },
  {
   "cell_type": "markdown",
   "metadata": {},
   "source": [
    "* Read data in"
   ]
  },
  {
   "cell_type": "code",
   "execution_count": 3,
   "metadata": {},
   "outputs": [
    {
     "name": "stdout",
     "output_type": "stream",
     "text": [
      "CPU times: user 41.8 s, sys: 3.44 s, total: 45.2 s\n",
      "Wall time: 52.7 s\n"
     ]
    }
   ],
   "source": [
    "%%time\n",
    "a10 = pd.read_sql_query('SELECT gridcode, date_time, trafficerlang '\n",
    "                         'FROM data ',\n",
    "                         engine, parse_dates=['date_time'])\n",
    "\n",
    "months = a10['date_time'].apply(lambda x: str(x.year) + '-' + str(x.month))\n",
    "hours = a10['date_time'].apply(lambda x: str(x.hour))\n",
    "\n",
    "order = ps.open(shp_link.replace('.shp', '.dbf')).by_col('GRIDCODE')\n",
    "areas = pd.Series([poly.area for poly in ps.open(shp_link)], \\\n",
    "                  index=order)\n",
    "areas = areas * 1e-6 # Sq. Km"
   ]
  },
  {
   "cell_type": "markdown",
   "metadata": {},
   "source": [
    "* MaxP\n",
    "\n",
    "This step removes an area with no data and joins very small polygons to adjacent ones with density as similar as possible. This is performed through an aggregation using the Max-P algorithm"
   ]
  },
  {
   "cell_type": "code",
   "execution_count": 4,
   "metadata": {},
   "outputs": [],
   "source": [
    "shp = gpd.read_file(shp_link).set_index('GRIDCODE')\n",
    "\n",
    "overall = a10.groupby('gridcode').mean()\n",
    "overall['area (Km2)'] = areas\n",
    "overall['erldens'] = overall['trafficerlang'] / overall['area (Km2)']\n",
    "overall = gpd.GeoDataFrame(overall, geometry=shp['geometry'], crs=shp.crs)\\\n",
    "             .dropna()\n",
    "    \n",
    "        # W\n",
    "wmxp = ps.queen_from_shapefile(shp_link, idVariable='GRIDCODE')\n",
    "wmxp.transform = 'R'\n",
    "wmxp.transform = 'O'\n",
    "# Polygon `49116` does not have data. Remove.\n",
    "wmxp = ps.w_subset(wmxp, [i for i in wmxp.id_order if i!=49116])\n",
    "\n",
    "# Information matrix with hourly average day\n",
    "x = a10.assign(hour=hours).groupby(['gridcode', 'hour'])\\\n",
    "       .mean()['trafficerlang']\\\n",
    "       .unstack()\\\n",
    "       .reindex(wmxp.id_order)\n",
    "# Areas for the MaxP\n",
    "mxp_a = overall.loc[wmxp.id_order, 'area (Km2)'].values"
   ]
  },
  {
   "cell_type": "code",
   "execution_count": 5,
   "metadata": {},
   "outputs": [
    {
     "name": "stdout",
     "output_type": "stream",
     "text": [
      "CPU times: user 8.31 s, sys: 20.7 ms, total: 8.33 s\n",
      "Wall time: 8.38 s\n"
     ]
    }
   ],
   "source": [
    "%%time\n",
    "np.random.seed(1234)\n",
    "mxp = ps.Maxp(wmxp, x.values, 0.05, mxp_a, initial=1000)\n",
    "labels = pd.Series(mxp.area2region).apply(lambda x: 'a'+str(x))"
   ]
  },
  {
   "cell_type": "markdown",
   "metadata": {},
   "source": [
    "* Aggregate polygons"
   ]
  },
  {
   "cell_type": "code",
   "execution_count": 6,
   "metadata": {
    "collapsed": true
   },
   "outputs": [],
   "source": [
    "aggd = overall.groupby(labels).sum()\n",
    "aggd['erldens'] = aggd['trafficerlang'] / aggd['area (Km2)']\n",
    "\n",
    "ag_geo = overall.groupby(labels)['geometry'].apply(lambda x: x.unary_union)\n",
    "aggd_shp = gpd.GeoDataFrame(aggd, geometry=ag_geo, crs=overall.crs)\n",
    "aggd_shp.reset_index().to_file(ashp_link)\n",
    "\n",
    "ag_a10 = a10.assign(hour=hours, month=months)\\\n",
    "    .set_index('gridcode')\\\n",
    "    .assign(labels=labels)\\\n",
    "    .groupby(['month', 'hour', 'labels', 'date_time'])[['trafficerlang']].sum()\\\n",
    "    .reset_index()"
   ]
  },
  {
   "cell_type": "markdown",
   "metadata": {},
   "source": [
    "* $ST-W$"
   ]
  },
  {
   "cell_type": "code",
   "execution_count": 7,
   "metadata": {},
   "outputs": [
    {
     "name": "stdout",
     "output_type": "stream",
     "text": [
      "CPU times: user 45 ms, sys: 3.51 ms, total: 48.5 ms\n",
      "Wall time: 48.5 ms\n"
     ]
    }
   ],
   "source": [
    "    # W\n",
    "aw = ps.queen_from_shapefile(ashp_link, idVariable='index')\n",
    "\n",
    "aw.transform = 'R'\n",
    "aw.transform = 'O'\n",
    "    \n",
    "    # Space-Time W\n",
    "ats = ag_a10['hour'].unique().shape[0]\n",
    "%time astw = tools.w_stitch_single(aw, ats)\n",
    "astw.transform = 'R'"
   ]
  },
  {
   "cell_type": "markdown",
   "metadata": {},
   "source": [
    "* Expand areas"
   ]
  },
  {
   "cell_type": "code",
   "execution_count": 8,
   "metadata": {
    "collapsed": true
   },
   "outputs": [],
   "source": [
    "aareas = aggd_shp.reset_index().set_index('index')\n",
    "astw_index = pd.Series(astw.id_order, \\\n",
    "                         index=[i.split('-')[1] for i in astw.id_order], \\\n",
    "                        name='astw_index')\n",
    "astareas = aareas.reset_index()\\\n",
    "                .join(astw_index, on='index')\\\n",
    "                .drop('index', axis=1)\\\n",
    "                .set_index('astw_index')\\\n",
    "                [['area (Km2)']]"
   ]
  },
  {
   "cell_type": "markdown",
   "metadata": {},
   "source": [
    "* Reshape for daily runs"
   ]
  },
  {
   "cell_type": "code",
   "execution_count": 45,
   "metadata": {},
   "outputs": [],
   "source": [
    "daily = ag_a10.drop('month', axis=1)\\\n",
    "              .assign(h_gc=ag_a10['hour']+'-'+ag_a10['labels'])\\\n",
    "              .join(astareas, on='h_gc')\\\n",
    "              .assign(date=ag_a10['date_time'].apply(lambda x: str(x.date())))\\\n",
    "              .set_index(['date', 'hour', 'labels'])\n",
    "daily['erldens'] = daily['trafficerlang'] / daily['area (Km2)']"
   ]
  },
  {
   "cell_type": "markdown",
   "metadata": {},
   "source": [
    "* Run in parallel"
   ]
  },
  {
   "cell_type": "code",
   "execution_count": 145,
   "metadata": {
    "scrolled": true
   },
   "outputs": [
    {
     "name": "stdout",
     "output_type": "stream",
     "text": [
      "CPU times: user 1min 16s, sys: 227 ms, total: 1min 16s\n",
      "Wall time: 1min 16s\n"
     ]
    }
   ],
   "source": [
    "permutations = 1\n",
    "\n",
    "g = daily.groupby(level='date')\n",
    "tasks = [(i, astw, astareas, permutations, id) for id, i in g]\n",
    "#pool = mp.Pool(mp.cpu_count())\n",
    "%time tasks = map(tools.child_lisa, tasks)\n",
    "lisa_clusters = pd.concat(tasks, axis=1)\n",
    "\n",
    "#lisa_clusters.to_csv('../data/lisa_clusters_%ip.csv'%permutations)ss"
   ]
  }
 ],
 "metadata": {
  "kernelspec": {
   "display_name": "Python 3",
   "language": "python",
   "name": "python3"
  },
  "language_info": {
   "codemirror_mode": {
    "name": "ipython",
    "version": 3
   },
   "file_extension": ".py",
   "mimetype": "text/x-python",
   "name": "python",
   "nbconvert_exporter": "python",
   "pygments_lexer": "ipython3",
   "version": "3.5.4"
  }
 },
 "nbformat": 4,
 "nbformat_minor": 1
}
